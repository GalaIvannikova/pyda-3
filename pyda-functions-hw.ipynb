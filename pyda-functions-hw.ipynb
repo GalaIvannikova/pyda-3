{
 "cells": [
  {
   "cell_type": "markdown",
   "metadata": {},
   "source": [
    "## Задание 1"
   ]
  },
  {
   "cell_type": "markdown",
   "metadata": {},
   "source": [
    "Дан список вида:"
   ]
  },
  {
   "cell_type": "code",
   "execution_count": 2,
   "metadata": {},
   "outputs": [],
   "source": [
    "data = [\n",
    "    [13, 25, 23, 34],\n",
    "    [45, 32, 44, 47],\n",
    "    [12, 33, 23, 95],\n",
    "    [13, 53, 34, 35]\n",
    "]"
   ]
  },
  {
   "cell_type": "code",
   "execution_count": 22,
   "metadata": {},
   "outputs": [
    {
     "name": "stdout",
     "output_type": "stream",
     "text": [
      "103\n",
      "103\n"
     ]
    }
   ],
   "source": [
    "def count(list_of_lists):\n",
    "    number = 0\n",
    "    data_num = list(enumerate(list_of_lists, start=0))\n",
    "    for row in data_num:\n",
    "        number_row = row[1][row[0]]\n",
    "        number += number_row\n",
    "    return number\n",
    "\n",
    "print(count(data))\n",
    "\n",
    "# Проверка результата\n",
    "print(13+32+23+35)\n"
   ]
  },
  {
   "cell_type": "markdown",
   "metadata": {},
   "source": [
    "Напишите функцию, которая возвращает сумму элементов на диагонали. Т. е. 13+32+23+35.  \n",
    "Список может быть любой длины, но всегда является \"квадратным\" (количество элементов во вложенных списках равно их количеству)."
   ]
  },
  {
   "cell_type": "markdown",
   "metadata": {},
   "source": [
    "## Задание 2"
   ]
  },
  {
   "cell_type": "markdown",
   "metadata": {},
   "source": [
    "Напишите функцию, возвращающую сумму первых n чисел Фибоначчи (для этого вам может понадобится ознакомиться с рекурсией)."
   ]
  },
  {
   "cell_type": "code",
   "execution_count": 3,
   "metadata": {},
   "outputs": [],
   "source": [
    "# Формула для чисел Фибоначчи: F[0] = 0, F[1] = 1, F[n] = F[n-1]+F[n-2]"
   ]
  },
  {
   "cell_type": "code",
   "execution_count": 4,
   "metadata": {},
   "outputs": [
    {
     "name": "stdout",
     "output_type": "stream",
     "text": [
      "Номер элемента ряда Фибоначчи: 3\n",
      "Список числе Фибоначчи - [1, 1, 2] и сумма элементов списка - 4\n"
     ]
    }
   ],
   "source": [
    "def fib():\n",
    "    fib1 = 1\n",
    "    fib2 = 1\n",
    "    fib_list = [fib1, fib2]\n",
    "    n = input(\"Номер элемента ряда Фибоначчи: \")\n",
    "    n = int(n)\n",
    "    i = 0\n",
    "    while i < n - 2:\n",
    "        fib_sum = fib1 + fib2\n",
    "        fib1 = fib2\n",
    "        fib2 = fib_sum\n",
    "        fib_list.append(fib2)\n",
    "        fib_total = sum(fib_list)\n",
    "        i = i + 1\n",
    "    return print(f'Список числе Фибоначчи - {fib_list} и сумма элементов списка - {fib_total}')\n",
    "\n",
    "fib()"
   ]
  },
  {
   "cell_type": "code",
   "execution_count": 52,
   "metadata": {},
   "outputs": [
    {
     "name": "stdout",
     "output_type": "stream",
     "text": [
      "Номер элемента ряда Фибоначчи: 9\n",
      "Список числе Фибоначчи - [1, 1, 2, 3, 5, 8, 13, 21, 34] и сумма элементов списка - 88\n"
     ]
    }
   ],
   "source": [
    "def fib():\n",
    "    fib1 = fib2 = 1\n",
    "    fib_list = [fib1, fib2]\n",
    "    n = int(input(\"Номер элемента ряда Фибоначчи: \")) - 2\n",
    "    while n > 0:\n",
    "        fib1, fib2 = fib2, fib1 + fib2\n",
    "        fib_list.append(fib2)\n",
    "        fib_total = sum(fib_list)\n",
    "        n -= 1\n",
    "    return print(f'Список числе Фибоначчи - {fib_list} и сумма элементов списка - {fib_total}')\n",
    "\n",
    "fib()"
   ]
  },
  {
   "cell_type": "code",
   "execution_count": 54,
   "metadata": {},
   "outputs": [
    {
     "name": "stdout",
     "output_type": "stream",
     "text": [
      "55\n"
     ]
    }
   ],
   "source": [
    "def fibonacci(n):\n",
    "    if n in (1, 2):\n",
    "        return 1\n",
    "    return fibonacci(n - 1) + fibonacci(n - 2)\n",
    " \n",
    "print(fibonacci(7))\n",
    "\n",
    "# Функцию нашла в интернет. В целом, плюс/минус понятно, как это работает,\n",
    "# Но не понятно, как при такой записи мне составить сумму и список из элементов."
   ]
  },
  {
   "cell_type": "markdown",
   "metadata": {},
   "source": [
    "## Задание 3\n"
   ]
  },
  {
   "cell_type": "markdown",
   "metadata": {},
   "source": [
    "Напишите функцию, преобразующую произвольный список вида ['2018-01-01', 'yandex', 'cpc', 100] (он может быть любой длины) в словарь {'2018-01-01': {'yandex': {'cpc': 100}}}"
   ]
  },
  {
   "cell_type": "code",
   "execution_count": 5,
   "metadata": {},
   "outputs": [
    {
     "name": "stdout",
     "output_type": "stream",
     "text": [
      "{'2018-01-01': {'yandex': {'cpc': 100}}}\n"
     ]
    }
   ],
   "source": [
    "list_sample = ['2018-01-01', 'yandex', 'cpc', 100]\n",
    "def dict_(n):\n",
    "    if len(n) > 2:\n",
    "        return {n[0]: dict_(n[1:])}\n",
    "    else:\n",
    "        return {n[0]: n[1]}  \n",
    "    \n",
    "print(dict_(list_sample))"
   ]
  },
  {
   "cell_type": "markdown",
   "metadata": {},
   "source": [
    "## Задание 4"
   ]
  },
  {
   "cell_type": "markdown",
   "metadata": {},
   "source": [
    "Вы работаете секретарем и вам постоянно приходят различные документы. Вы должны быть очень внимательны, чтобы не потерять ни один документ. Каталог документов хранится в следующем виде:"
   ]
  },
  {
   "cell_type": "code",
   "execution_count": 6,
   "metadata": {},
   "outputs": [],
   "source": [
    "documents = [\n",
    "    {'type': 'passport', 'number': '2207 876234', 'name': 'Василий Гупкин'},\n",
    "    {'type': 'invoice', 'number': '11-2', 'name': 'Геннадий Покемонов'},\n",
    "    {'type': 'insurance', 'number': '10006', 'name': 'Аристарх Павлов'}\n",
    "]"
   ]
  },
  {
   "cell_type": "markdown",
   "metadata": {},
   "source": [
    "Перечень полок, на которых находятся документы хранится в следующем виде:"
   ]
  },
  {
   "cell_type": "code",
   "execution_count": 7,
   "metadata": {},
   "outputs": [],
   "source": [
    "directories = {\n",
    "    '1': ['2207 876234', '11-2', '5455 028765'],\n",
    "    '2': ['10006', '5400 028765', '5455 002299'],\n",
    "    '3': []\n",
    "}"
   ]
  },
  {
   "cell_type": "code",
   "execution_count": 3,
   "metadata": {},
   "outputs": [
    {
     "name": "stdout",
     "output_type": "stream",
     "text": [
      "\n",
      "    p – выводит имя человека, которому принадлежит документ\n",
      "    s – выведет номер полки, на которой лежит документ\n",
      "    l – выведет список всех документов из списка\n",
      "    as – добавит новую полку в перечень\n",
      "    d – удалит документ из каталога и из перечня полок\n",
      "    m – переместит документ с текущей полки на целевую\n",
      "    a – добавит новый документ в каталог и в перечень полок\n",
      "    q - выйти из программы\n",
      "    \n",
      "Введите команду: m\n",
      "Введите номер документа: 11-2\n",
      "Введите номер полки, куда положить документ: 3\n",
      "Документ усешно перемещен\n",
      "{'1': ['2207 876234', '5455 028765'], '2': ['10006', '5400 028765', '5455 002299'], '3': ['11-2']}\n",
      "\n",
      "    p – выводит имя человека, которому принадлежит документ\n",
      "    s – выведет номер полки, на которой лежит документ\n",
      "    l – выведет список всех документов из списка\n",
      "    as – добавит новую полку в перечень\n",
      "    d – удалит документ из каталога и из перечня полок\n",
      "    m – переместит документ с текущей полки на целевую\n",
      "    a – добавит новый документ в каталог и в перечень полок\n",
      "    q - выйти из программы\n",
      "    \n",
      "Введите команду: a\n",
      "Введите номер полки, куда положить документ: 1\n",
      "Введите номер документа: 122\n",
      "Введите тип документа: 222\n",
      "Введите ФИО: 222\n",
      "Документ добавлен\n",
      "[{'type': 'passport', 'number': '2207 876234', 'name': 'Василий Гупкин'}, {'type': 'invoice', 'number': '11-2', 'name': 'Геннадий Покемонов'}, {'type': 'insurance', 'number': '10006', 'name': 'Аристарх Павлов'}, {'type': '222', 'number': '122', 'name': '222'}]\n",
      "{'1': ['2207 876234', '5455 028765', '122'], '2': ['10006', '5400 028765', '5455 002299'], '3': ['11-2']}\n",
      "\n",
      "    p – выводит имя человека, которому принадлежит документ\n",
      "    s – выведет номер полки, на которой лежит документ\n",
      "    l – выведет список всех документов из списка\n",
      "    as – добавит новую полку в перечень\n",
      "    d – удалит документ из каталога и из перечня полок\n",
      "    m – переместит документ с текущей полки на целевую\n",
      "    a – добавит новый документ в каталог и в перечень полок\n",
      "    q - выйти из программы\n",
      "    \n",
      "Введите команду: a\n",
      "Введите номер полки, куда положить документ: 2\n",
      "Введите номер документа: 222\n",
      "Введите тип документа: 2222222222222222222222222222222\n",
      "Введите ФИО: 2222222222222222222222222222222\n",
      "Документ добавлен\n",
      "[{'type': 'passport', 'number': '2207 876234', 'name': 'Василий Гупкин'}, {'type': 'invoice', 'number': '11-2', 'name': 'Геннадий Покемонов'}, {'type': 'insurance', 'number': '10006', 'name': 'Аристарх Павлов'}, {'type': '222', 'number': '122', 'name': '222'}, {'type': '2222222222222222222222222222222', 'number': '222', 'name': '2222222222222222222222222222222'}]\n",
      "{'1': ['2207 876234', '5455 028765', '122'], '2': ['10006', '5400 028765', '5455 002299', '222'], '3': ['11-2']}\n",
      "\n",
      "    p – выводит имя человека, которому принадлежит документ\n",
      "    s – выведет номер полки, на которой лежит документ\n",
      "    l – выведет список всех документов из списка\n",
      "    as – добавит новую полку в перечень\n",
      "    d – удалит документ из каталога и из перечня полок\n",
      "    m – переместит документ с текущей полки на целевую\n",
      "    a – добавит новый документ в каталог и в перечень полок\n",
      "    q - выйти из программы\n",
      "    \n",
      "Введите команду: q\n",
      "Выход из программы\n"
     ]
    }
   ],
   "source": [
    "def main():\n",
    "    while True:\n",
    "        print(\n",
    "    '''\n",
    "    p – выводит имя человека, которому принадлежит документ\n",
    "    s – выведет номер полки, на которой лежит документ\n",
    "    l – выведет список всех документов из списка\n",
    "    as – добавит новую полку в перечень\n",
    "    d – удалит документ из каталога и из перечня полок\n",
    "    m – переместит документ с текущей полки на целевую\n",
    "    a – добавит новый документ в каталог и в перечень полок\n",
    "    q - выйти из программы\n",
    "    ''')\n",
    "        command = input('Введите команду: ')\n",
    "        if command == 'p':\n",
    "            print(get_people(documents, number_input()))\n",
    "        elif command == 's':\n",
    "            number_exist = find_number_dir(directories, number_input())\n",
    "            if number_exist:\n",
    "                print(f'Номер полки - {number_exist}')\n",
    "            else:\n",
    "                print('Такой полки не существует')\n",
    "        elif command == 'l':\n",
    "            show_list(documents)\n",
    "        elif command == 'as':\n",
    "            add_shelf(directories)\n",
    "            print(directories)\n",
    "        elif command == 'd':\n",
    "            delete(documents, directories, number_input())\n",
    "            print(documents)\n",
    "            print(directories)\n",
    "        elif command == 'm':\n",
    "            move_doc(directories, number_input(), shelf_input())\n",
    "            print(directories)\n",
    "        elif command == 'a':\n",
    "            add(documents, directories, shelf_input())\n",
    "            print(documents)\n",
    "            print(directories)\n",
    "        elif command == 'q':\n",
    "            print('Выход из программы')\n",
    "            break\n",
    "\n",
    "    \n",
    "\n",
    "    \n",
    "def number_input():\n",
    "    return input('Введите номер документа: ')\n",
    "\n",
    "def shelf_input():\n",
    "    return input('Введите номер полки, куда положить документ: ')\n",
    "\n",
    "def get_people(documents_, number_doc):   \n",
    "    for doc in documents_:\n",
    "        if number_doc == doc['number']:\n",
    "            return(doc['name'])\n",
    "\n",
    "\n",
    "# def get_shell(directories_, shell_number):\n",
    "#     if find_number_doc\n",
    "#     for directory_key, directory_value in directories_.items():\n",
    "#         if shell_number in directory_value:\n",
    "#               return(directory_key)\n",
    "              \n",
    "def show_list(documents):\n",
    "    for list_item in documents:\n",
    "        print (f'{list_item[\"type\"]} {list_item[\"number\"]} {list_item[\"name\"]}')\n",
    "    \n",
    "    \n",
    "def add_shelf(directories):\n",
    "    new_shall_number = input('Введите номер новой полки: ')\n",
    "    if new_shall_number not in directories:\n",
    "        print('Полка успешно добавлена')\n",
    "        return directories.setdefault(new_shall_number, [])\n",
    "    else:\n",
    "        print('Полка уже существует')\n",
    "        \n",
    "def find_number_doc (documents, doc_number):\n",
    "    for doc in documents:\n",
    "        if doc_number == doc['number']:\n",
    "            return documents[documents.index(doc)]\n",
    "        \n",
    "\n",
    "def find_number_dir(directories, doc_number):\n",
    "    for shelf_directory, directory in directories.items():\n",
    "        if doc_number in directory:\n",
    "           return shelf_directory\n",
    "    \n",
    "def del_doc(documents, doc):\n",
    "   return documents.pop(documents.index(doc))\n",
    "               \n",
    "def del_dir(directories, doc, number_shelf):\n",
    "    return directories[number_shelf].pop(directories[number_shelf].index(doc))\n",
    "#                for directory in directories.values():\n",
    "#         if doc in directory:\n",
    "#             directory.remove(doc)\n",
    "#             return directories\n",
    "\n",
    "def delete(documents, directories, doc_number):\n",
    "    document = find_number_doc(documents, doc_number)\n",
    "    directory = find_number_dir(directories, doc_number)\n",
    "    if document and directory:\n",
    "        del_doc(documents, document) \n",
    "        del_dir(directories, doc_number, directory)\n",
    "        print('Документ удален')\n",
    "    else:\n",
    "        print('Такого документа не существует')\n",
    " \n",
    "def move_doc(directories, doc_number, shelf_number):\n",
    "    number_in_dir = find_number_dir(directories, doc_number)\n",
    "    if number_in_dir and shelf_number in directories:\n",
    "        if doc_number not in directories[shelf_number]:\n",
    "            directories[shelf_number].append(directories[number_in_dir].pop(directories[number_in_dir].index(doc_number)))\n",
    "            print('Документ усешно перемещен')\n",
    "        else:\n",
    "            print('Документ уже лежит на данной полке')\n",
    "    elif not number_in_dir:\n",
    "        print('Такого документа не существует')\n",
    "    elif shelf_number not in directories:\n",
    "        print('Такой полки не существует')\n",
    "\n",
    "def add(documents, directories, shelf_number):\n",
    "    if shelf_number in directories:\n",
    "        doc_number = number_input()\n",
    "        document = {\n",
    "            'type': input('Введите тип документа: '),\n",
    "            'number': doc_number,\n",
    "            'name': input('Введите ФИО: ')\n",
    "         }\n",
    "        documents.append(document)\n",
    "        directories[shelf_number].append(doc_number)\n",
    "        print('Документ добавлен')\n",
    "    else:\n",
    "        print('Такой полки не существует')\n",
    "\n",
    "               \n",
    "               \n",
    "main()               \n",
    "               \n",
    "# add(documents, directories, shelf_input()) \n",
    "# for x in documents:\n",
    "#     print(x)\n",
    "# for x, y in directories.items():\n",
    "#     print(x, y)\n",
    "               \n",
    "               \n",
    "# move_doc(directories,number_input(), shelf_input())\n",
    "# for x, y in directories.items():\n",
    "#     print(x, y)"
   ]
  },
  {
   "cell_type": "markdown",
   "metadata": {},
   "source": [
    "Необходимо реализовать пользовательские команды (внимание! это не название функций, которые должны быть выразительными, а команды, которые вводит пользователь, чтобы получить необходимый результат):\n",
    "  \n",
    "- p – people – команда, которая спросит номер документа и выведет имя человека, которому он принадлежит;  \n",
    "- s – shelf – команда, которая спросит номер документа и выведет номер полки, на которой он находится  \n",
    "Правильно обработайте ситуацию, когда пользователь будет вводить несуществующий документ.\n",
    "- l – list – команда, которая выведет список всех документов в формате   \n",
    "**passport \"2207 876234\" \"Василий Гупкин\"**  \n",
    "- as – add shelf – команда, которая спросит номер новой полки и добавит ее в перечень\n",
    "- d – delete – команда, которая спросит номер документа и удалит его из каталога и из перечня полок. Предусмотрите сценарий, когда пользователь вводит несуществующий документ;  \n",
    "- m – move – команда, которая спросит номер документа и целевую полку и переместит его с текущей полки на целевую. Корректно обработайте кейсы, когда пользователь пытается переместить несуществующий документ или переместить документ на несуществующую полку;  \n",
    "- a – add – команда, которая добавит новый документ в каталог и в перечень полок, спросив его номер, тип, имя владельца и номер полки, на котором он будет храниться."
   ]
  }
 ],
 "metadata": {
  "kernelspec": {
   "display_name": "Python 3",
   "language": "python",
   "name": "python3"
  },
  "language_info": {
   "codemirror_mode": {
    "name": "ipython",
    "version": 3
   },
   "file_extension": ".py",
   "mimetype": "text/x-python",
   "name": "python",
   "nbconvert_exporter": "python",
   "pygments_lexer": "ipython3",
   "version": "3.7.4"
  }
 },
 "nbformat": 4,
 "nbformat_minor": 2
}
